{
 "cells": [
  {
   "cell_type": "markdown",
   "metadata": {},
   "source": [
    "# Desafio Murabei\n",
    "\n",
    "### Contexto\n",
    "\n",
    "Esse desafio é parte do processo de seleção para o cargo de Cientista de Dados da empresa Murabei. Os dados foram disponibilizados via email, assim como o texto com a explicação do desafio.\n",
    "\n",
    "\n",
    "**Objetivo Geral**: Prever o resultado no exame normalizado(variável normexam), a partir de características dos alunos e das escolas. O modelo deve ser capaz de responder quais do tipo de escola (gênero misto, só de homens ou só de mulheres) é mais eficiente na formação de seus alunos de acordo com o resultado do exame normalizado.\n",
    "\n",
    "\n",
    "**Objetivo do Notebook 1**: Realizar a leitura, o tratamento e a limpeza dos dados disponibilizados. \n",
    "\n",
    "\n",
    "**Passos**:\n",
    "\n",
    " - [X] Leitura dos dados;\n",
    " - [X] Tratamento dos dados;\n",
    " - [X] Limpeza dos dados;\n",
    " - [X] Salvar os dados limpos e tratados;"
   ]
  },
  {
   "cell_type": "markdown",
   "metadata": {},
   "source": [
    "## Base de Dados\n",
    "\n",
    "A base de dados fornecida foi extraída do curso de modelagem de [Harvard](http://tutorials.iq.harvard.edu/R/Rstatistics/Rstatistics.html) e está organizada em quatro arquivos diferentes:\n",
    "\n",
    " - cat_school_data.csv --> Variáveis categóricas que são aplicadas às escolas;\n",
    " - num_school_data.csv --> Variáveis numéricas que são aplicadas às escolas;\n",
    " - cat_student_data.csv --> Variáveis categóricas que são aplicadas aos estudantes;\n",
    " - num_student_data.csv --> Variáveis numéricas que são aplicadas aos estudantes;\n",
    "\n",
    "As tabelas de estudantes e escola são cruzadas através do campo **school**, os ids dos estudantes são únicos para cada escola.\n",
    "\n",
    "*O texto acima foi retirado do arquivo de explicação do desafio, disponibilizado pela própria empresa.*"
   ]
  },
  {
   "cell_type": "markdown",
   "metadata": {},
   "source": [
    "## Bibliotecas"
   ]
  },
  {
   "cell_type": "code",
   "execution_count": 1,
   "metadata": {},
   "outputs": [],
   "source": [
    "%load_ext autoreload\n",
    "%autoreload 2\n",
    "\n",
    "import os\n",
    "import sys\n",
    "\n",
    "import numpy as np\n",
    "import pandas as pd\n",
    "\n",
    "sys.path.append(os.path.abspath(os.path.pardir))\n",
    "from src import settings, personalized_functions\n",
    "\n",
    "from IPython.core.display import HTML, display\n",
    "\n",
    "pd.set_option('display.max_rows', None)\n",
    "pd.set_option(\"display.max_columns\", None)\n",
    "pd.set_option('max_colwidth', 150)"
   ]
  },
  {
   "cell_type": "markdown",
   "metadata": {},
   "source": [
    "## Leitura e Tratamento dos Dados"
   ]
  },
  {
   "cell_type": "code",
   "execution_count": 2,
   "metadata": {},
   "outputs": [],
   "source": [
    "# Criar estrutura de diretórios, caso não exista\n",
    "if not os.path.exists(settings.DATA_PATH):\n",
    "    os.makedirs(settings.DATA_PATH)\n",
    "\n",
    "\n",
    "PATH = os.path.join(settings.DATA_PATH)"
   ]
  },
  {
   "cell_type": "code",
   "execution_count": 3,
   "metadata": {},
   "outputs": [],
   "source": [
    "cat_school_df = pd.read_csv(f'{PATH}/cat_school_data.csv', delimiter = ';')\n",
    "num_school_df = pd.read_csv(f'{PATH}/num_school_data.csv', delimiter = ';')\n",
    "cat_student_df = pd.read_csv(f'{PATH}/cat_student_data.csv', delimiter = ';')\n",
    "num_student_df = pd.read_csv(f'{PATH}/num_student_data.csv', delimiter = ';')"
   ]
  },
  {
   "cell_type": "code",
   "execution_count": 4,
   "metadata": {},
   "outputs": [
    {
     "data": {
      "text/html": [
       "<div>\n",
       "<style scoped>\n",
       "    .dataframe tbody tr th:only-of-type {\n",
       "        vertical-align: middle;\n",
       "    }\n",
       "\n",
       "    .dataframe tbody tr th {\n",
       "        vertical-align: top;\n",
       "    }\n",
       "\n",
       "    .dataframe thead th {\n",
       "        text-align: right;\n",
       "    }\n",
       "</style>\n",
       "<table border=\"1\" class=\"dataframe\">\n",
       "  <thead>\n",
       "    <tr style=\"text-align: right;\">\n",
       "      <th></th>\n",
       "      <th>school</th>\n",
       "      <th>variable</th>\n",
       "      <th>value</th>\n",
       "    </tr>\n",
       "  </thead>\n",
       "  <tbody>\n",
       "    <tr>\n",
       "      <th>0</th>\n",
       "      <td>1</td>\n",
       "      <td>schgend</td>\n",
       "      <td>mixed</td>\n",
       "    </tr>\n",
       "    <tr>\n",
       "      <th>1</th>\n",
       "      <td>2</td>\n",
       "      <td>schgend</td>\n",
       "      <td>girls</td>\n",
       "    </tr>\n",
       "  </tbody>\n",
       "</table>\n",
       "</div>"
      ],
      "text/plain": [
       "   school variable  value\n",
       "0       1  schgend  mixed\n",
       "1       2  schgend  girls"
      ]
     },
     "execution_count": 4,
     "metadata": {},
     "output_type": "execute_result"
    }
   ],
   "source": [
    "cat_school_df.head(2)"
   ]
  },
  {
   "cell_type": "code",
   "execution_count": 5,
   "metadata": {},
   "outputs": [
    {
     "data": {
      "text/html": [
       "<div>\n",
       "<style scoped>\n",
       "    .dataframe tbody tr th:only-of-type {\n",
       "        vertical-align: middle;\n",
       "    }\n",
       "\n",
       "    .dataframe tbody tr th {\n",
       "        vertical-align: top;\n",
       "    }\n",
       "\n",
       "    .dataframe thead th {\n",
       "        text-align: right;\n",
       "    }\n",
       "</style>\n",
       "<table border=\"1\" class=\"dataframe\">\n",
       "  <thead>\n",
       "    <tr style=\"text-align: right;\">\n",
       "      <th></th>\n",
       "      <th>school</th>\n",
       "      <th>variable</th>\n",
       "      <th>value</th>\n",
       "    </tr>\n",
       "  </thead>\n",
       "  <tbody>\n",
       "    <tr>\n",
       "      <th>0</th>\n",
       "      <td>1</td>\n",
       "      <td>schavg</td>\n",
       "      <td>0,1661752</td>\n",
       "    </tr>\n",
       "    <tr>\n",
       "      <th>1</th>\n",
       "      <td>2</td>\n",
       "      <td>schavg</td>\n",
       "      <td>0,3951492</td>\n",
       "    </tr>\n",
       "  </tbody>\n",
       "</table>\n",
       "</div>"
      ],
      "text/plain": [
       "   school variable      value\n",
       "0       1   schavg  0,1661752\n",
       "1       2   schavg  0,3951492"
      ]
     },
     "execution_count": 5,
     "metadata": {},
     "output_type": "execute_result"
    }
   ],
   "source": [
    "num_school_df.head(2)"
   ]
  },
  {
   "cell_type": "code",
   "execution_count": 6,
   "metadata": {},
   "outputs": [
    {
     "data": {
      "text/html": [
       "<div>\n",
       "<style scoped>\n",
       "    .dataframe tbody tr th:only-of-type {\n",
       "        vertical-align: middle;\n",
       "    }\n",
       "\n",
       "    .dataframe tbody tr th {\n",
       "        vertical-align: top;\n",
       "    }\n",
       "\n",
       "    .dataframe thead th {\n",
       "        text-align: right;\n",
       "    }\n",
       "</style>\n",
       "<table border=\"1\" class=\"dataframe\">\n",
       "  <thead>\n",
       "    <tr style=\"text-align: right;\">\n",
       "      <th></th>\n",
       "      <th>school</th>\n",
       "      <th>student</th>\n",
       "      <th>variable</th>\n",
       "      <th>value</th>\n",
       "    </tr>\n",
       "  </thead>\n",
       "  <tbody>\n",
       "    <tr>\n",
       "      <th>1</th>\n",
       "      <td>1</td>\n",
       "      <td>143</td>\n",
       "      <td>intake</td>\n",
       "      <td>bottom 25%</td>\n",
       "    </tr>\n",
       "    <tr>\n",
       "      <th>2</th>\n",
       "      <td>1</td>\n",
       "      <td>145</td>\n",
       "      <td>intake</td>\n",
       "      <td>mid 50%</td>\n",
       "    </tr>\n",
       "  </tbody>\n",
       "</table>\n",
       "</div>"
      ],
      "text/plain": [
       "   school  student variable       value\n",
       "1       1      143   intake  bottom 25%\n",
       "2       1      145   intake     mid 50%"
      ]
     },
     "execution_count": 6,
     "metadata": {},
     "output_type": "execute_result"
    }
   ],
   "source": [
    "cat_student_df.head(2)"
   ]
  },
  {
   "cell_type": "code",
   "execution_count": 7,
   "metadata": {},
   "outputs": [
    {
     "data": {
      "text/html": [
       "<div>\n",
       "<style scoped>\n",
       "    .dataframe tbody tr th:only-of-type {\n",
       "        vertical-align: middle;\n",
       "    }\n",
       "\n",
       "    .dataframe tbody tr th {\n",
       "        vertical-align: top;\n",
       "    }\n",
       "\n",
       "    .dataframe thead th {\n",
       "        text-align: right;\n",
       "    }\n",
       "</style>\n",
       "<table border=\"1\" class=\"dataframe\">\n",
       "  <thead>\n",
       "    <tr style=\"text-align: right;\">\n",
       "      <th></th>\n",
       "      <th>school</th>\n",
       "      <th>student</th>\n",
       "      <th>variable</th>\n",
       "      <th>value</th>\n",
       "    </tr>\n",
       "  </thead>\n",
       "  <tbody>\n",
       "    <tr>\n",
       "      <th>1</th>\n",
       "      <td>1</td>\n",
       "      <td>143.0</td>\n",
       "      <td>normexam</td>\n",
       "      <td>0,2613242</td>\n",
       "    </tr>\n",
       "    <tr>\n",
       "      <th>2</th>\n",
       "      <td>1</td>\n",
       "      <td>145.0</td>\n",
       "      <td>normexam</td>\n",
       "      <td>0,1340672</td>\n",
       "    </tr>\n",
       "  </tbody>\n",
       "</table>\n",
       "</div>"
      ],
      "text/plain": [
       "   school  student  variable      value\n",
       "1       1    143.0  normexam  0,2613242\n",
       "2       1    145.0  normexam  0,1340672"
      ]
     },
     "execution_count": 7,
     "metadata": {},
     "output_type": "execute_result"
    }
   ],
   "source": [
    "num_student_df.head(2)"
   ]
  },
  {
   "cell_type": "markdown",
   "metadata": {},
   "source": [
    "Para criarmos um único conjunto de dados com todas as características dos alunos e das escolas, será necessário uma reestruturação das tabelas. "
   ]
  },
  {
   "cell_type": "code",
   "execution_count": 8,
   "metadata": {},
   "outputs": [],
   "source": [
    "pivot_cat_school_df = (cat_school_df.pivot(index='school',\n",
    "                                     columns='variable',\n",
    "                                     values='value')\n",
    "                              .reset_index()\n",
    "                              .rename_axis(None, axis=1)\n",
    "                )"
   ]
  },
  {
   "cell_type": "code",
   "execution_count": 9,
   "metadata": {},
   "outputs": [
    {
     "data": {
      "text/html": [
       "<div>\n",
       "<style scoped>\n",
       "    .dataframe tbody tr th:only-of-type {\n",
       "        vertical-align: middle;\n",
       "    }\n",
       "\n",
       "    .dataframe tbody tr th {\n",
       "        vertical-align: top;\n",
       "    }\n",
       "\n",
       "    .dataframe thead th {\n",
       "        text-align: right;\n",
       "    }\n",
       "</style>\n",
       "<table border=\"1\" class=\"dataframe\">\n",
       "  <thead>\n",
       "    <tr style=\"text-align: right;\">\n",
       "      <th></th>\n",
       "      <th>school</th>\n",
       "      <th>schgend</th>\n",
       "      <th>type</th>\n",
       "    </tr>\n",
       "  </thead>\n",
       "  <tbody>\n",
       "    <tr>\n",
       "      <th>0</th>\n",
       "      <td>1</td>\n",
       "      <td>mixed</td>\n",
       "      <td>Mxd</td>\n",
       "    </tr>\n",
       "    <tr>\n",
       "      <th>1</th>\n",
       "      <td>2</td>\n",
       "      <td>girls</td>\n",
       "      <td>Sngl</td>\n",
       "    </tr>\n",
       "  </tbody>\n",
       "</table>\n",
       "</div>"
      ],
      "text/plain": [
       "   school schgend  type\n",
       "0       1   mixed   Mxd\n",
       "1       2   girls  Sngl"
      ]
     },
     "execution_count": 9,
     "metadata": {},
     "output_type": "execute_result"
    }
   ],
   "source": [
    "pivot_cat_school_df.head(2)"
   ]
  },
  {
   "cell_type": "code",
   "execution_count": 10,
   "metadata": {},
   "outputs": [
    {
     "data": {
      "text/plain": [
       "school     0\n",
       "schgend    0\n",
       "type       0\n",
       "dtype: int64"
      ]
     },
     "execution_count": 10,
     "metadata": {},
     "output_type": "execute_result"
    }
   ],
   "source": [
    "pivot_cat_school_df.isnull().sum()"
   ]
  },
  {
   "cell_type": "code",
   "execution_count": 11,
   "metadata": {},
   "outputs": [],
   "source": [
    "pivot_num_school_df = (num_school_df.pivot(index='school',\n",
    "                                     columns='variable',\n",
    "                                     values='value')\n",
    "                              .reset_index()\n",
    "                              .rename_axis(None, axis=1)\n",
    "                )"
   ]
  },
  {
   "cell_type": "code",
   "execution_count": 12,
   "metadata": {},
   "outputs": [
    {
     "data": {
      "text/html": [
       "<div>\n",
       "<style scoped>\n",
       "    .dataframe tbody tr th:only-of-type {\n",
       "        vertical-align: middle;\n",
       "    }\n",
       "\n",
       "    .dataframe tbody tr th {\n",
       "        vertical-align: top;\n",
       "    }\n",
       "\n",
       "    .dataframe thead th {\n",
       "        text-align: right;\n",
       "    }\n",
       "</style>\n",
       "<table border=\"1\" class=\"dataframe\">\n",
       "  <thead>\n",
       "    <tr style=\"text-align: right;\">\n",
       "      <th></th>\n",
       "      <th>school</th>\n",
       "      <th>schavg</th>\n",
       "    </tr>\n",
       "  </thead>\n",
       "  <tbody>\n",
       "    <tr>\n",
       "      <th>0</th>\n",
       "      <td>1</td>\n",
       "      <td>0,1661752</td>\n",
       "    </tr>\n",
       "    <tr>\n",
       "      <th>1</th>\n",
       "      <td>2</td>\n",
       "      <td>0,3951492</td>\n",
       "    </tr>\n",
       "  </tbody>\n",
       "</table>\n",
       "</div>"
      ],
      "text/plain": [
       "   school     schavg\n",
       "0       1  0,1661752\n",
       "1       2  0,3951492"
      ]
     },
     "execution_count": 12,
     "metadata": {},
     "output_type": "execute_result"
    }
   ],
   "source": [
    "pivot_num_school_df.head(2)"
   ]
  },
  {
   "cell_type": "code",
   "execution_count": 13,
   "metadata": {
    "scrolled": true
   },
   "outputs": [
    {
     "data": {
      "text/plain": [
       "school    0\n",
       "schavg    0\n",
       "dtype: int64"
      ]
     },
     "execution_count": 13,
     "metadata": {},
     "output_type": "execute_result"
    }
   ],
   "source": [
    "pivot_num_school_df.isnull().sum()"
   ]
  },
  {
   "cell_type": "code",
   "execution_count": 14,
   "metadata": {},
   "outputs": [],
   "source": [
    "pivot_cat_student_df = (cat_student_df.pivot_table(index=['school','student'],\n",
    "                                             columns='variable',\n",
    "                                             values='value',\n",
    "                                             aggfunc='first')\n",
    "                                .reset_index()\n",
    "                                .rename_axis(None, axis=1)\n",
    "                 )"
   ]
  },
  {
   "cell_type": "code",
   "execution_count": 15,
   "metadata": {},
   "outputs": [
    {
     "data": {
      "text/html": [
       "<div>\n",
       "<style scoped>\n",
       "    .dataframe tbody tr th:only-of-type {\n",
       "        vertical-align: middle;\n",
       "    }\n",
       "\n",
       "    .dataframe tbody tr th {\n",
       "        vertical-align: top;\n",
       "    }\n",
       "\n",
       "    .dataframe thead th {\n",
       "        text-align: right;\n",
       "    }\n",
       "</style>\n",
       "<table border=\"1\" class=\"dataframe\">\n",
       "  <thead>\n",
       "    <tr style=\"text-align: right;\">\n",
       "      <th></th>\n",
       "      <th>school</th>\n",
       "      <th>student</th>\n",
       "      <th>intake</th>\n",
       "      <th>sex</th>\n",
       "      <th>vr</th>\n",
       "    </tr>\n",
       "  </thead>\n",
       "  <tbody>\n",
       "    <tr>\n",
       "      <th>0</th>\n",
       "      <td>1</td>\n",
       "      <td>1</td>\n",
       "      <td>bottom 25%</td>\n",
       "      <td>F</td>\n",
       "      <td>mid 50%</td>\n",
       "    </tr>\n",
       "    <tr>\n",
       "      <th>1</th>\n",
       "      <td>1</td>\n",
       "      <td>4</td>\n",
       "      <td>mid 50%</td>\n",
       "      <td>F</td>\n",
       "      <td>mid 50%</td>\n",
       "    </tr>\n",
       "  </tbody>\n",
       "</table>\n",
       "</div>"
      ],
      "text/plain": [
       "   school  student      intake sex       vr\n",
       "0       1        1  bottom 25%   F  mid 50%\n",
       "1       1        4     mid 50%   F  mid 50%"
      ]
     },
     "execution_count": 15,
     "metadata": {},
     "output_type": "execute_result"
    }
   ],
   "source": [
    "pivot_cat_student_df.head(2)"
   ]
  },
  {
   "cell_type": "code",
   "execution_count": 16,
   "metadata": {},
   "outputs": [
    {
     "data": {
      "text/plain": [
       "school      0\n",
       "student     0\n",
       "intake     67\n",
       "sex        95\n",
       "vr         52\n",
       "dtype: int64"
      ]
     },
     "execution_count": 16,
     "metadata": {},
     "output_type": "execute_result"
    }
   ],
   "source": [
    "pivot_cat_student_df.isnull().sum()"
   ]
  },
  {
   "cell_type": "code",
   "execution_count": 17,
   "metadata": {},
   "outputs": [],
   "source": [
    "pivot_num_student_df = (num_student_df.pivot_table(index=['school','student'],\n",
    "                                             columns='variable', \n",
    "                                             values='value', \n",
    "                                             aggfunc='first')\n",
    "                                .reset_index()\n",
    "                                .rename_axis(None, axis=1)\n",
    "                 )"
   ]
  },
  {
   "cell_type": "code",
   "execution_count": 18,
   "metadata": {
    "scrolled": true
   },
   "outputs": [
    {
     "data": {
      "text/html": [
       "<div>\n",
       "<style scoped>\n",
       "    .dataframe tbody tr th:only-of-type {\n",
       "        vertical-align: middle;\n",
       "    }\n",
       "\n",
       "    .dataframe tbody tr th {\n",
       "        vertical-align: top;\n",
       "    }\n",
       "\n",
       "    .dataframe thead th {\n",
       "        text-align: right;\n",
       "    }\n",
       "</style>\n",
       "<table border=\"1\" class=\"dataframe\">\n",
       "  <thead>\n",
       "    <tr style=\"text-align: right;\">\n",
       "      <th></th>\n",
       "      <th>school</th>\n",
       "      <th>student</th>\n",
       "      <th>normexam</th>\n",
       "      <th>standLRT</th>\n",
       "    </tr>\n",
       "  </thead>\n",
       "  <tbody>\n",
       "    <tr>\n",
       "      <th>0</th>\n",
       "      <td>1</td>\n",
       "      <td>1.0</td>\n",
       "      <td>1,5061852</td>\n",
       "      <td>0,7843622</td>\n",
       "    </tr>\n",
       "    <tr>\n",
       "      <th>1</th>\n",
       "      <td>1</td>\n",
       "      <td>4.0</td>\n",
       "      <td>-0,555112</td>\n",
       "      <td>-1,03397</td>\n",
       "    </tr>\n",
       "  </tbody>\n",
       "</table>\n",
       "</div>"
      ],
      "text/plain": [
       "   school  student   normexam   standLRT\n",
       "0       1      1.0  1,5061852  0,7843622\n",
       "1       1      4.0  -0,555112   -1,03397"
      ]
     },
     "execution_count": 18,
     "metadata": {},
     "output_type": "execute_result"
    }
   ],
   "source": [
    "pivot_num_student_df.head(2)"
   ]
  },
  {
   "cell_type": "code",
   "execution_count": 19,
   "metadata": {},
   "outputs": [
    {
     "data": {
      "text/plain": [
       "school       0\n",
       "student      0\n",
       "normexam    70\n",
       "standLRT    29\n",
       "dtype: int64"
      ]
     },
     "execution_count": 19,
     "metadata": {},
     "output_type": "execute_result"
    }
   ],
   "source": [
    "pivot_num_student_df.isnull().sum()"
   ]
  },
  {
   "cell_type": "code",
   "execution_count": 20,
   "metadata": {},
   "outputs": [],
   "source": [
    "list_of_dfs = [pivot_cat_school_df, pivot_num_school_df, pivot_cat_student_df, pivot_num_student_df]"
   ]
  },
  {
   "cell_type": "code",
   "execution_count": 21,
   "metadata": {
    "scrolled": true
   },
   "outputs": [
    {
     "name": "stdout",
     "output_type": "stream",
     "text": [
      "(65, 3)\n",
      "(65, 2)\n",
      "(4010, 5)\n",
      "(4010, 4)\n"
     ]
    }
   ],
   "source": [
    "for each in list_of_dfs:\n",
    "    print(each.shape)"
   ]
  },
  {
   "cell_type": "code",
   "execution_count": 22,
   "metadata": {},
   "outputs": [],
   "source": [
    "school_student_df = (pivot_cat_school_df.merge(pivot_num_school_df,on='school',how='outer')\n",
    "                                        .merge(pivot_cat_student_df,on='school',how='outer')\n",
    "                                        .merge(pivot_num_student_df, on=['school','student'],how='outer')\n",
    "                    )"
   ]
  },
  {
   "cell_type": "code",
   "execution_count": 23,
   "metadata": {
    "scrolled": true
   },
   "outputs": [
    {
     "data": {
      "text/html": [
       "<div>\n",
       "<style scoped>\n",
       "    .dataframe tbody tr th:only-of-type {\n",
       "        vertical-align: middle;\n",
       "    }\n",
       "\n",
       "    .dataframe tbody tr th {\n",
       "        vertical-align: top;\n",
       "    }\n",
       "\n",
       "    .dataframe thead th {\n",
       "        text-align: right;\n",
       "    }\n",
       "</style>\n",
       "<table border=\"1\" class=\"dataframe\">\n",
       "  <thead>\n",
       "    <tr style=\"text-align: right;\">\n",
       "      <th></th>\n",
       "      <th>school</th>\n",
       "      <th>schgend</th>\n",
       "      <th>type</th>\n",
       "      <th>schavg</th>\n",
       "      <th>student</th>\n",
       "      <th>intake</th>\n",
       "      <th>sex</th>\n",
       "      <th>vr</th>\n",
       "      <th>normexam</th>\n",
       "      <th>standLRT</th>\n",
       "    </tr>\n",
       "  </thead>\n",
       "  <tbody>\n",
       "    <tr>\n",
       "      <th>0</th>\n",
       "      <td>1</td>\n",
       "      <td>mixed</td>\n",
       "      <td>Mxd</td>\n",
       "      <td>0,1661752</td>\n",
       "      <td>1</td>\n",
       "      <td>bottom 25%</td>\n",
       "      <td>F</td>\n",
       "      <td>mid 50%</td>\n",
       "      <td>1,5061852</td>\n",
       "      <td>0,7843622</td>\n",
       "    </tr>\n",
       "    <tr>\n",
       "      <th>1</th>\n",
       "      <td>1</td>\n",
       "      <td>mixed</td>\n",
       "      <td>Mxd</td>\n",
       "      <td>0,1661752</td>\n",
       "      <td>4</td>\n",
       "      <td>mid 50%</td>\n",
       "      <td>F</td>\n",
       "      <td>mid 50%</td>\n",
       "      <td>-0,555112</td>\n",
       "      <td>-1,03397</td>\n",
       "    </tr>\n",
       "    <tr>\n",
       "      <th>2</th>\n",
       "      <td>1</td>\n",
       "      <td>mixed</td>\n",
       "      <td>Mxd</td>\n",
       "      <td>0,1661752</td>\n",
       "      <td>6</td>\n",
       "      <td>mid 50%</td>\n",
       "      <td>M</td>\n",
       "      <td>mid 50%</td>\n",
       "      <td>-1,335315</td>\n",
       "      <td>-0,951318</td>\n",
       "    </tr>\n",
       "    <tr>\n",
       "      <th>3</th>\n",
       "      <td>1</td>\n",
       "      <td>mixed</td>\n",
       "      <td>Mxd</td>\n",
       "      <td>0,1661752</td>\n",
       "      <td>7</td>\n",
       "      <td>top 25%</td>\n",
       "      <td>M</td>\n",
       "      <td>mid 50%</td>\n",
       "      <td>-0,555112</td>\n",
       "      <td>-2,356393</td>\n",
       "    </tr>\n",
       "    <tr>\n",
       "      <th>4</th>\n",
       "      <td>1</td>\n",
       "      <td>mixed</td>\n",
       "      <td>Mxd</td>\n",
       "      <td>0,1661752</td>\n",
       "      <td>13</td>\n",
       "      <td>mid 50%</td>\n",
       "      <td>M</td>\n",
       "      <td>mid 50%</td>\n",
       "      <td>-0,197611</td>\n",
       "      <td>-0,290107</td>\n",
       "    </tr>\n",
       "  </tbody>\n",
       "</table>\n",
       "</div>"
      ],
      "text/plain": [
       "   school schgend type     schavg  student      intake sex       vr  \\\n",
       "0       1   mixed  Mxd  0,1661752        1  bottom 25%   F  mid 50%   \n",
       "1       1   mixed  Mxd  0,1661752        4     mid 50%   F  mid 50%   \n",
       "2       1   mixed  Mxd  0,1661752        6     mid 50%   M  mid 50%   \n",
       "3       1   mixed  Mxd  0,1661752        7     top 25%   M  mid 50%   \n",
       "4       1   mixed  Mxd  0,1661752       13     mid 50%   M  mid 50%   \n",
       "\n",
       "    normexam   standLRT  \n",
       "0  1,5061852  0,7843622  \n",
       "1  -0,555112   -1,03397  \n",
       "2  -1,335315  -0,951318  \n",
       "3  -0,555112  -2,356393  \n",
       "4  -0,197611  -0,290107  "
      ]
     },
     "execution_count": 23,
     "metadata": {},
     "output_type": "execute_result"
    }
   ],
   "source": [
    "school_student_df.head(5)"
   ]
  },
  {
   "cell_type": "code",
   "execution_count": 24,
   "metadata": {},
   "outputs": [
    {
     "data": {
      "text/plain": [
       "(4010, 10)"
      ]
     },
     "execution_count": 24,
     "metadata": {},
     "output_type": "execute_result"
    }
   ],
   "source": [
    "school_student_df.shape"
   ]
  },
  {
   "cell_type": "code",
   "execution_count": 25,
   "metadata": {
    "scrolled": false
   },
   "outputs": [
    {
     "name": "stdout",
     "output_type": "stream",
     "text": [
      "<class 'pandas.core.frame.DataFrame'>\n",
      "Int64Index: 4010 entries, 0 to 4009\n",
      "Data columns (total 10 columns):\n",
      "school      4010 non-null int64\n",
      "schgend     4010 non-null object\n",
      "type        4010 non-null object\n",
      "schavg      4010 non-null object\n",
      "student     4010 non-null int64\n",
      "intake      3943 non-null object\n",
      "sex         3915 non-null object\n",
      "vr          3958 non-null object\n",
      "normexam    3940 non-null object\n",
      "standLRT    3981 non-null object\n",
      "dtypes: int64(2), object(8)\n",
      "memory usage: 344.6+ KB\n"
     ]
    }
   ],
   "source": [
    "school_student_df.info()"
   ]
  },
  {
   "cell_type": "code",
   "execution_count": 26,
   "metadata": {},
   "outputs": [],
   "source": [
    "school_student_df[['schavg','normexam','standLRT']] = (school_student_df[['schavg','normexam','standLRT']]\n",
    "                                                       .apply(lambda x: x.str.replace(',','.'))\n",
    "                                                      )"
   ]
  },
  {
   "cell_type": "code",
   "execution_count": 27,
   "metadata": {},
   "outputs": [],
   "source": [
    "school_student_df[['schavg','normexam','standLRT']] = (school_student_df[['schavg','normexam','standLRT']]\n",
    "                                                      .astype('float')\n",
    "                                                      )"
   ]
  },
  {
   "cell_type": "code",
   "execution_count": 28,
   "metadata": {},
   "outputs": [
    {
     "data": {
      "text/html": [
       "<div>\n",
       "<style scoped>\n",
       "    .dataframe tbody tr th:only-of-type {\n",
       "        vertical-align: middle;\n",
       "    }\n",
       "\n",
       "    .dataframe tbody tr th {\n",
       "        vertical-align: top;\n",
       "    }\n",
       "\n",
       "    .dataframe thead th {\n",
       "        text-align: right;\n",
       "    }\n",
       "</style>\n",
       "<table border=\"1\" class=\"dataframe\">\n",
       "  <thead>\n",
       "    <tr style=\"text-align: right;\">\n",
       "      <th></th>\n",
       "      <th>school</th>\n",
       "      <th>schgend</th>\n",
       "      <th>type</th>\n",
       "      <th>schavg</th>\n",
       "      <th>student</th>\n",
       "      <th>intake</th>\n",
       "      <th>sex</th>\n",
       "      <th>vr</th>\n",
       "      <th>normexam</th>\n",
       "      <th>standLRT</th>\n",
       "    </tr>\n",
       "  </thead>\n",
       "  <tbody>\n",
       "    <tr>\n",
       "      <th>0</th>\n",
       "      <td>1</td>\n",
       "      <td>mixed</td>\n",
       "      <td>Mxd</td>\n",
       "      <td>0.166175</td>\n",
       "      <td>1</td>\n",
       "      <td>bottom 25%</td>\n",
       "      <td>F</td>\n",
       "      <td>mid 50%</td>\n",
       "      <td>1.506185</td>\n",
       "      <td>0.784362</td>\n",
       "    </tr>\n",
       "    <tr>\n",
       "      <th>1</th>\n",
       "      <td>1</td>\n",
       "      <td>mixed</td>\n",
       "      <td>Mxd</td>\n",
       "      <td>0.166175</td>\n",
       "      <td>4</td>\n",
       "      <td>mid 50%</td>\n",
       "      <td>F</td>\n",
       "      <td>mid 50%</td>\n",
       "      <td>-0.555112</td>\n",
       "      <td>-1.033970</td>\n",
       "    </tr>\n",
       "    <tr>\n",
       "      <th>2</th>\n",
       "      <td>1</td>\n",
       "      <td>mixed</td>\n",
       "      <td>Mxd</td>\n",
       "      <td>0.166175</td>\n",
       "      <td>6</td>\n",
       "      <td>mid 50%</td>\n",
       "      <td>M</td>\n",
       "      <td>mid 50%</td>\n",
       "      <td>-1.335315</td>\n",
       "      <td>-0.951318</td>\n",
       "    </tr>\n",
       "    <tr>\n",
       "      <th>3</th>\n",
       "      <td>1</td>\n",
       "      <td>mixed</td>\n",
       "      <td>Mxd</td>\n",
       "      <td>0.166175</td>\n",
       "      <td>7</td>\n",
       "      <td>top 25%</td>\n",
       "      <td>M</td>\n",
       "      <td>mid 50%</td>\n",
       "      <td>-0.555112</td>\n",
       "      <td>-2.356393</td>\n",
       "    </tr>\n",
       "    <tr>\n",
       "      <th>4</th>\n",
       "      <td>1</td>\n",
       "      <td>mixed</td>\n",
       "      <td>Mxd</td>\n",
       "      <td>0.166175</td>\n",
       "      <td>13</td>\n",
       "      <td>mid 50%</td>\n",
       "      <td>M</td>\n",
       "      <td>mid 50%</td>\n",
       "      <td>-0.197611</td>\n",
       "      <td>-0.290107</td>\n",
       "    </tr>\n",
       "  </tbody>\n",
       "</table>\n",
       "</div>"
      ],
      "text/plain": [
       "   school schgend type    schavg  student      intake sex       vr  normexam  \\\n",
       "0       1   mixed  Mxd  0.166175        1  bottom 25%   F  mid 50%  1.506185   \n",
       "1       1   mixed  Mxd  0.166175        4     mid 50%   F  mid 50% -0.555112   \n",
       "2       1   mixed  Mxd  0.166175        6     mid 50%   M  mid 50% -1.335315   \n",
       "3       1   mixed  Mxd  0.166175        7     top 25%   M  mid 50% -0.555112   \n",
       "4       1   mixed  Mxd  0.166175       13     mid 50%   M  mid 50% -0.197611   \n",
       "\n",
       "   standLRT  \n",
       "0  0.784362  \n",
       "1 -1.033970  \n",
       "2 -0.951318  \n",
       "3 -2.356393  \n",
       "4 -0.290107  "
      ]
     },
     "execution_count": 28,
     "metadata": {},
     "output_type": "execute_result"
    }
   ],
   "source": [
    "school_student_df.head()"
   ]
  },
  {
   "cell_type": "markdown",
   "metadata": {},
   "source": [
    "# Tratamento dos Dados Faltantes"
   ]
  },
  {
   "cell_type": "code",
   "execution_count": 29,
   "metadata": {
    "scrolled": true
   },
   "outputs": [
    {
     "data": {
      "text/plain": [
       "school       0\n",
       "schgend      0\n",
       "type         0\n",
       "schavg       0\n",
       "student      0\n",
       "intake      67\n",
       "sex         95\n",
       "vr          52\n",
       "normexam    70\n",
       "standLRT    29\n",
       "dtype: int64"
      ]
     },
     "execution_count": 29,
     "metadata": {},
     "output_type": "execute_result"
    }
   ],
   "source": [
    "school_student_df.isnull().sum()"
   ]
  },
  {
   "cell_type": "markdown",
   "metadata": {},
   "source": [
    "Temos algumas variáveis com dados faltantes no dataset. A variável *sex*, representa o gênero do aluno. A variável *schgend* representa o gênero da escola na qual o aluno estuda. Podemos preencher alguns dados faltantes, com base nessa coluna do gênero da escola."
   ]
  },
  {
   "cell_type": "code",
   "execution_count": 30,
   "metadata": {},
   "outputs": [],
   "source": [
    "school_student_df.loc[(school_student_df['sex'].isnull())&(school_student_df['schgend']=='girls'), 'sex'] = 'F'\n",
    "school_student_df.loc[(school_student_df['sex'].isnull())&(school_student_df['schgend']=='boys'), 'sex'] = 'M'"
   ]
  },
  {
   "cell_type": "code",
   "execution_count": 31,
   "metadata": {
    "scrolled": true
   },
   "outputs": [
    {
     "data": {
      "text/plain": [
       "55"
      ]
     },
     "execution_count": 31,
     "metadata": {},
     "output_type": "execute_result"
    }
   ],
   "source": [
    "school_student_df[school_student_df['sex'].isnull()].shape[0]"
   ]
  },
  {
   "cell_type": "markdown",
   "metadata": {},
   "source": [
    "Os dados da feature *sex* diminuíram de 95 para 55 dados faltantes. Esses dados que ainda constam como *NaN* na coluna gênero, são alunos pertencentes à escola de gênero misto, podendo ser de qualquer um dos gêneros. Por ora, os valores iguais a *NaN*, e olharemos para as outras features com dados faltantes."
   ]
  },
  {
   "cell_type": "markdown",
   "metadata": {},
   "source": [
    "As variaveis *intake* e *vr*, representam a faixa de pontuação de admisão do aluno, e a faixa de pontuação do raciocínio verbal no nível do aluno na admissão, respectivamente. \n",
    "\n",
    "Abaixo, é mostrado quais são os valores únicos assumidos por ambas as variáveis, sua contagem de ocorrências dentro do conjunto de dados e a porcentagem que isso representa."
   ]
  },
  {
   "cell_type": "code",
   "execution_count": 32,
   "metadata": {
    "scrolled": true
   },
   "outputs": [
    {
     "name": "stdout",
     "output_type": "stream",
     "text": [
      "Valores únicos da variável intake: ['bottom 25%' 'mid 50%' 'top 25%' nan]\n",
      "Valores únicos da variável vr: ['bottom 25%' 'mid 50%' 'top 25%' nan]\n"
     ]
    },
    {
     "data": {
      "text/html": [
       "<h3>Contagem de cada valor único<h3>"
      ],
      "text/plain": [
       "<IPython.core.display.HTML object>"
      ]
     },
     "metadata": {},
     "output_type": "display_data"
    },
    {
     "data": {
      "text/html": [
       "<th style=\"text-align:center\"><td style=\"vertical-align:top\"><h2>intake</h2><table style=\"display:inline\" border=\"1\" class=\"dataframe\">\n",
       "  <thead>\n",
       "    <tr style=\"text-align: right;\">\n",
       "      <th></th>\n",
       "      <th>intake</th>\n",
       "      <th>%</th>\n",
       "    </tr>\n",
       "  </thead>\n",
       "  <tbody>\n",
       "    <tr>\n",
       "      <th>mid 50%</th>\n",
       "      <td>2293</td>\n",
       "      <td>0.571820</td>\n",
       "    </tr>\n",
       "    <tr>\n",
       "      <th>bottom 25%</th>\n",
       "      <td>1132</td>\n",
       "      <td>0.282294</td>\n",
       "    </tr>\n",
       "    <tr>\n",
       "      <th>top 25%</th>\n",
       "      <td>518</td>\n",
       "      <td>0.129177</td>\n",
       "    </tr>\n",
       "  </tbody>\n",
       "</table style=\"display:inline\"></td></th><th style=\"text-align:center\"><td style=\"vertical-align:top\"><h2>vr</h2><table style=\"display:inline\" border=\"1\" class=\"dataframe\">\n",
       "  <thead>\n",
       "    <tr style=\"text-align: right;\">\n",
       "      <th></th>\n",
       "      <th>vr</th>\n",
       "      <th>%</th>\n",
       "    </tr>\n",
       "  </thead>\n",
       "  <tbody>\n",
       "    <tr>\n",
       "      <th>mid 50%</th>\n",
       "      <td>2205</td>\n",
       "      <td>0.549875</td>\n",
       "    </tr>\n",
       "    <tr>\n",
       "      <th>top 25%</th>\n",
       "      <td>1136</td>\n",
       "      <td>0.283292</td>\n",
       "    </tr>\n",
       "    <tr>\n",
       "      <th>bottom 25%</th>\n",
       "      <td>617</td>\n",
       "      <td>0.153865</td>\n",
       "    </tr>\n",
       "  </tbody>\n",
       "</table style=\"display:inline\"></td></th>"
      ]
     },
     "metadata": {},
     "output_type": "display_data"
    }
   ],
   "source": [
    "unique_values_intake = school_student_df['intake'].unique()\n",
    "df1 = pd.DataFrame(school_student_df['intake'].value_counts())\n",
    "df1['%'] = df1['intake']/school_student_df.shape[0]\n",
    "unique_values_vr = school_student_df['vr'].unique()\n",
    "df2 = pd.DataFrame(school_student_df['vr'].value_counts())\n",
    "df2['%'] = df2['vr']/school_student_df.shape[0]\n",
    "\n",
    "print(f'Valores únicos da variável intake: {unique_values_intake}')\n",
    "print(f'Valores únicos da variável vr: {unique_values_intake}')\n",
    "display(HTML('<h3>Contagem de cada valor único<h3>'))\n",
    "personalized_functions.display_side_by_side(df1,df2, titles=['intake','vr'])\n",
    "\n",
    "\n",
    "\n",
    "del unique_values_intake, df1, unique_values_vr, df2"
   ]
  },
  {
   "cell_type": "markdown",
   "metadata": {},
   "source": [
    "O conjunto de dados é bem balanceado em relação à quantidade de cada faixa de valores para as variáveis *intake* e *vr*. Para prosseguir com a avaliação da possibilidade de inferir os *NaN* dessas variáveis, será necessário analisarmos também as contagens das combinações de ambas as variáveis, e além disso, como as variáveis numéricas do tipo *float64* se comportam.\n",
    "\n",
    "A tabela a seguir mostra a todas as possíveis combinações de valores de ambas as variáveis:\n",
    "\n",
    "| intake | vr |\n",
    "|---|---|\n",
    "| bottom 25% | bottom 25% |\n",
    "| bottom 25% | mid 50% |  \n",
    "| bottom 25% | top 25% |  \n",
    "|||\n",
    "| mid 50% | bottom 25% |  \n",
    "| mid 50% | mid 50% |  \n",
    "| mid 50% | top 25% |  \n",
    "|||\n",
    "| top 25% | bottom 25% |  \n",
    "| top 25% | mid 50% |  \n",
    "| top 25% | top 25% |  "
   ]
  },
  {
   "cell_type": "code",
   "execution_count": 33,
   "metadata": {},
   "outputs": [],
   "source": [
    "shape_comb1 = (school_student_df[(school_student_df['intake']=='bottom 25%')&\n",
    "                                 (school_student_df['vr']=='bottom 25%')].shape[0]\n",
    "              )\n",
    "shape_comb2 = (school_student_df[(school_student_df['intake']=='bottom 25%')&\n",
    "                                 (school_student_df['vr']=='mid 50%')].shape[0]\n",
    "              )\n",
    "shape_comb3 = (school_student_df[(school_student_df['intake']=='bottom 25%')&\n",
    "                                 (school_student_df['vr']=='top 25%')].shape[0]\n",
    "              )\n",
    "shape_comb4 = (school_student_df[(school_student_df['intake']=='mid 50%')&\n",
    "                                 (school_student_df['vr']=='mid 50%')].shape[0]\n",
    "              )\n",
    "shape_comb5 = (school_student_df[(school_student_df['intake']=='mid 50%')&\n",
    "                                 (school_student_df['vr']=='mid 50%')].shape[0]\n",
    "              )\n",
    "shape_comb6 = (school_student_df[(school_student_df['intake']=='mid 50%')&\n",
    "                                 (school_student_df['vr']=='top 25%')].shape[0]\n",
    "              )\n",
    "shape_comb7 = (school_student_df[(school_student_df['intake']=='top 25%')&\n",
    "                                 (school_student_df['vr']=='mid 50%')].shape[0]\n",
    "              )\n",
    "shape_comb8 = (school_student_df[(school_student_df['intake']=='top 25%')&\n",
    "                                 (school_student_df['vr']=='mid 50%')].shape[0]\n",
    "              )\n",
    "shape_comb9 = (school_student_df[(school_student_df['intake']=='top 25%')&\n",
    "                                 (school_student_df['vr']=='top 25%')].shape[0]\n",
    "              )"
   ]
  },
  {
   "cell_type": "code",
   "execution_count": 34,
   "metadata": {},
   "outputs": [],
   "source": [
    "comb1 = (pd.DataFrame(school_student_df[(school_student_df['intake']=='bottom 25%')&\n",
    "                                        (school_student_df['vr']=='bottom 25%')]\n",
    "                      [['normexam','standLRT']].describe())\n",
    "        )\n",
    "\n",
    "comb2 = (pd.DataFrame(school_student_df[(school_student_df['intake']=='bottom 25%')&\n",
    "                                        (school_student_df['vr']=='mid 50%')]\n",
    "                      [['normexam','standLRT']].describe())\n",
    "        )\n",
    "comb3 = (pd.DataFrame(school_student_df[(school_student_df['intake']=='bottom 25%')&\n",
    "                                        (school_student_df['vr']=='top 25%')]\n",
    "                      [['normexam','standLRT']].describe())\n",
    "        )\n",
    "comb4 = (pd.DataFrame(school_student_df[(school_student_df['intake']=='mid 50%')&\n",
    "                                        (school_student_df['vr']=='bottom 25%')]\n",
    "                      [['normexam','standLRT']].describe())\n",
    "        )\n",
    "\n",
    "comb5 = (pd.DataFrame(school_student_df[(school_student_df['intake']=='mid 50%')&\n",
    "                                        (school_student_df['vr']=='mid 50%')]\n",
    "                      [['normexam','standLRT']].describe())\n",
    "        )\n",
    "comb6 = (pd.DataFrame(school_student_df[(school_student_df['intake']=='mid 50%')&\n",
    "                                        (school_student_df['vr']=='top 25%')]\n",
    "                      [['normexam','standLRT']].describe())\n",
    "        )\n",
    "comb7 = (pd.DataFrame(school_student_df[(school_student_df['intake']=='top 25%')&\n",
    "                                        (school_student_df['vr']=='bottom 25%')]\n",
    "                      [['normexam','standLRT']].describe())\n",
    "        )\n",
    "\n",
    "comb8 = (pd.DataFrame(school_student_df[(school_student_df['intake']=='top 25%')&\n",
    "                                        (school_student_df['vr']=='mid 50%')]\n",
    "                      [['normexam','standLRT']].describe())\n",
    "        )\n",
    "comb9 = (pd.DataFrame(school_student_df[(school_student_df['intake']=='top 25%')&\n",
    "                                        (school_student_df['vr']=='top 25%')]\n",
    "                      [['normexam','standLRT']].describe())\n",
    "        )"
   ]
  },
  {
   "cell_type": "code",
   "execution_count": 35,
   "metadata": {
    "scrolled": false
   },
   "outputs": [
    {
     "data": {
      "text/html": [
       "<h2>Tabelas mostrando a quantidade de registros para cada combinação e as estatísticas descritivas                   para as variáveis normexam e standLRT:</h2>"
      ],
      "text/plain": [
       "<IPython.core.display.HTML object>"
      ]
     },
     "metadata": {},
     "output_type": "display_data"
    },
    {
     "data": {
      "text/html": [
       "<h3>Variável intake fixada em bottom 25%<h3>"
      ],
      "text/plain": [
       "<IPython.core.display.HTML object>"
      ]
     },
     "metadata": {},
     "output_type": "display_data"
    },
    {
     "name": "stdout",
     "output_type": "stream",
     "text": [
      "Quantidades de registros para vr = bottom 25% :97\n",
      "Quantidades de registros para vr = mid 50% :570\n",
      "Quantidades de registros para vr = top 25% :447\n"
     ]
    },
    {
     "data": {
      "text/html": [
       "<th style=\"text-align:center\"><td style=\"vertical-align:top\"><h2>vr = bottom 25%</h2><table style=\"display:inline\" border=\"1\" class=\"dataframe\">\n",
       "  <thead>\n",
       "    <tr style=\"text-align: right;\">\n",
       "      <th></th>\n",
       "      <th>normexam</th>\n",
       "      <th>standLRT</th>\n",
       "    </tr>\n",
       "  </thead>\n",
       "  <tbody>\n",
       "    <tr>\n",
       "      <th>count</th>\n",
       "      <td>95.000000</td>\n",
       "      <td>97.000000</td>\n",
       "    </tr>\n",
       "    <tr>\n",
       "      <th>mean</th>\n",
       "      <td>0.388914</td>\n",
       "      <td>0.602018</td>\n",
       "    </tr>\n",
       "    <tr>\n",
       "      <th>std</th>\n",
       "      <td>0.700851</td>\n",
       "      <td>0.716969</td>\n",
       "    </tr>\n",
       "    <tr>\n",
       "      <th>min</th>\n",
       "      <td>-1.335315</td>\n",
       "      <td>-1.695182</td>\n",
       "    </tr>\n",
       "    <tr>\n",
       "      <th>25%</th>\n",
       "      <td>-0.129085</td>\n",
       "      <td>0.123150</td>\n",
       "    </tr>\n",
       "    <tr>\n",
       "      <th>50%</th>\n",
       "      <td>0.402669</td>\n",
       "      <td>0.536408</td>\n",
       "    </tr>\n",
       "    <tr>\n",
       "      <th>75%</th>\n",
       "      <td>0.896566</td>\n",
       "      <td>1.032317</td>\n",
       "    </tr>\n",
       "    <tr>\n",
       "      <th>max</th>\n",
       "      <td>1.900335</td>\n",
       "      <td>2.850649</td>\n",
       "    </tr>\n",
       "  </tbody>\n",
       "</table style=\"display:inline\"></td></th><th style=\"text-align:center\"><td style=\"vertical-align:top\"><h2>vr = mid 50%</h2><table style=\"display:inline\" border=\"1\" class=\"dataframe\">\n",
       "  <thead>\n",
       "    <tr style=\"text-align: right;\">\n",
       "      <th></th>\n",
       "      <th>normexam</th>\n",
       "      <th>standLRT</th>\n",
       "    </tr>\n",
       "  </thead>\n",
       "  <tbody>\n",
       "    <tr>\n",
       "      <th>count</th>\n",
       "      <td>559.000000</td>\n",
       "      <td>568.000000</td>\n",
       "    </tr>\n",
       "    <tr>\n",
       "      <th>mean</th>\n",
       "      <td>0.633237</td>\n",
       "      <td>0.901209</td>\n",
       "    </tr>\n",
       "    <tr>\n",
       "      <th>std</th>\n",
       "      <td>0.822166</td>\n",
       "      <td>0.691039</td>\n",
       "    </tr>\n",
       "    <tr>\n",
       "      <th>min</th>\n",
       "      <td>-2.291731</td>\n",
       "      <td>-1.447227</td>\n",
       "    </tr>\n",
       "    <tr>\n",
       "      <th>25%</th>\n",
       "      <td>0.073536</td>\n",
       "      <td>0.453756</td>\n",
       "    </tr>\n",
       "    <tr>\n",
       "      <th>50%</th>\n",
       "      <td>0.678759</td>\n",
       "      <td>0.867014</td>\n",
       "    </tr>\n",
       "    <tr>\n",
       "      <th>75%</th>\n",
       "      <td>1.175849</td>\n",
       "      <td>1.362922</td>\n",
       "    </tr>\n",
       "    <tr>\n",
       "      <th>max</th>\n",
       "      <td>2.532352</td>\n",
       "      <td>3.015952</td>\n",
       "    </tr>\n",
       "  </tbody>\n",
       "</table style=\"display:inline\"></td></th><th style=\"text-align:center\"><td style=\"vertical-align:top\"><h2>vr = top 25%</h2><table style=\"display:inline\" border=\"1\" class=\"dataframe\">\n",
       "  <thead>\n",
       "    <tr style=\"text-align: right;\">\n",
       "      <th></th>\n",
       "      <th>normexam</th>\n",
       "      <th>standLRT</th>\n",
       "    </tr>\n",
       "  </thead>\n",
       "  <tbody>\n",
       "    <tr>\n",
       "      <th>count</th>\n",
       "      <td>440.000000</td>\n",
       "      <td>445.000000</td>\n",
       "    </tr>\n",
       "    <tr>\n",
       "      <th>mean</th>\n",
       "      <td>0.947641</td>\n",
       "      <td>1.022844</td>\n",
       "    </tr>\n",
       "    <tr>\n",
       "      <th>std</th>\n",
       "      <td>0.886642</td>\n",
       "      <td>0.677045</td>\n",
       "    </tr>\n",
       "    <tr>\n",
       "      <th>min</th>\n",
       "      <td>-1.438662</td>\n",
       "      <td>-1.447227</td>\n",
       "    </tr>\n",
       "    <tr>\n",
       "      <th>25%</th>\n",
       "      <td>0.328072</td>\n",
       "      <td>0.619059</td>\n",
       "    </tr>\n",
       "    <tr>\n",
       "      <th>50%</th>\n",
       "      <td>0.967586</td>\n",
       "      <td>0.949665</td>\n",
       "    </tr>\n",
       "    <tr>\n",
       "      <th>75%</th>\n",
       "      <td>1.579220</td>\n",
       "      <td>1.445574</td>\n",
       "    </tr>\n",
       "    <tr>\n",
       "      <th>max</th>\n",
       "      <td>3.666091</td>\n",
       "      <td>2.850649</td>\n",
       "    </tr>\n",
       "  </tbody>\n",
       "</table style=\"display:inline\"></td></th>"
      ]
     },
     "metadata": {},
     "output_type": "display_data"
    },
    {
     "data": {
      "text/html": [
       "<h3>Variável intake fixada em mid 50%<h3>"
      ],
      "text/plain": [
       "<IPython.core.display.HTML object>"
      ]
     },
     "metadata": {},
     "output_type": "display_data"
    },
    {
     "name": "stdout",
     "output_type": "stream",
     "text": [
      "Quantidades de registros para vr = bottom 25% :1310\n",
      "Quantidades de registros para vr = mid 50% :1310\n",
      "Quantidades de registros para vr = top 25% :597\n"
     ]
    },
    {
     "data": {
      "text/html": [
       "<th style=\"text-align:center\"><td style=\"vertical-align:top\"><h2>vr = bottom 25%</h2><table style=\"display:inline\" border=\"1\" class=\"dataframe\">\n",
       "  <thead>\n",
       "    <tr style=\"text-align: right;\">\n",
       "      <th></th>\n",
       "      <th>normexam</th>\n",
       "      <th>standLRT</th>\n",
       "    </tr>\n",
       "  </thead>\n",
       "  <tbody>\n",
       "    <tr>\n",
       "      <th>count</th>\n",
       "      <td>353.000000</td>\n",
       "      <td>359.000000</td>\n",
       "    </tr>\n",
       "    <tr>\n",
       "      <th>mean</th>\n",
       "      <td>-0.355809</td>\n",
       "      <td>-0.380816</td>\n",
       "    </tr>\n",
       "    <tr>\n",
       "      <th>std</th>\n",
       "      <td>0.769189</td>\n",
       "      <td>0.705060</td>\n",
       "    </tr>\n",
       "    <tr>\n",
       "      <th>min</th>\n",
       "      <td>-2.752660</td>\n",
       "      <td>-2.934953</td>\n",
       "    </tr>\n",
       "    <tr>\n",
       "      <th>25%</th>\n",
       "      <td>-0.852670</td>\n",
       "      <td>-0.786016</td>\n",
       "    </tr>\n",
       "    <tr>\n",
       "      <th>50%</th>\n",
       "      <td>-0.338842</td>\n",
       "      <td>-0.372758</td>\n",
       "    </tr>\n",
       "    <tr>\n",
       "      <th>75%</th>\n",
       "      <td>0.134067</td>\n",
       "      <td>0.123150</td>\n",
       "    </tr>\n",
       "    <tr>\n",
       "      <th>max</th>\n",
       "      <td>1.813827</td>\n",
       "      <td>1.528225</td>\n",
       "    </tr>\n",
       "  </tbody>\n",
       "</table style=\"display:inline\"></td></th><th style=\"text-align:center\"><td style=\"vertical-align:top\"><h2>vr = mid 50%</h2><table style=\"display:inline\" border=\"1\" class=\"dataframe\">\n",
       "  <thead>\n",
       "    <tr style=\"text-align: right;\">\n",
       "      <th></th>\n",
       "      <th>normexam</th>\n",
       "      <th>standLRT</th>\n",
       "    </tr>\n",
       "  </thead>\n",
       "  <tbody>\n",
       "    <tr>\n",
       "      <th>count</th>\n",
       "      <td>1289.000000</td>\n",
       "      <td>1296.000000</td>\n",
       "    </tr>\n",
       "    <tr>\n",
       "      <th>mean</th>\n",
       "      <td>-0.155101</td>\n",
       "      <td>-0.168808</td>\n",
       "    </tr>\n",
       "    <tr>\n",
       "      <th>std</th>\n",
       "      <td>0.798125</td>\n",
       "      <td>0.678453</td>\n",
       "    </tr>\n",
       "    <tr>\n",
       "      <th>min</th>\n",
       "      <td>-2.510121</td>\n",
       "      <td>-2.934953</td>\n",
       "    </tr>\n",
       "    <tr>\n",
       "      <th>25%</th>\n",
       "      <td>-0.699505</td>\n",
       "      <td>-0.620713</td>\n",
       "    </tr>\n",
       "    <tr>\n",
       "      <th>50%</th>\n",
       "      <td>-0.129085</td>\n",
       "      <td>-0.124804</td>\n",
       "    </tr>\n",
       "    <tr>\n",
       "      <th>75%</th>\n",
       "      <td>0.402669</td>\n",
       "      <td>0.288453</td>\n",
       "    </tr>\n",
       "    <tr>\n",
       "      <th>max</th>\n",
       "      <td>2.408692</td>\n",
       "      <td>2.272089</td>\n",
       "    </tr>\n",
       "  </tbody>\n",
       "</table style=\"display:inline\"></td></th><th style=\"text-align:center\"><td style=\"vertical-align:top\"><h2>vr = top 25%</h2><table style=\"display:inline\" border=\"1\" class=\"dataframe\">\n",
       "  <thead>\n",
       "    <tr style=\"text-align: right;\">\n",
       "      <th></th>\n",
       "      <th>normexam</th>\n",
       "      <th>standLRT</th>\n",
       "    </tr>\n",
       "  </thead>\n",
       "  <tbody>\n",
       "    <tr>\n",
       "      <th>count</th>\n",
       "      <td>589.000000</td>\n",
       "      <td>594.000000</td>\n",
       "    </tr>\n",
       "    <tr>\n",
       "      <th>mean</th>\n",
       "      <td>0.023616</td>\n",
       "      <td>0.043421</td>\n",
       "    </tr>\n",
       "    <tr>\n",
       "      <th>std</th>\n",
       "      <td>0.892663</td>\n",
       "      <td>0.667491</td>\n",
       "    </tr>\n",
       "    <tr>\n",
       "      <th>min</th>\n",
       "      <td>-2.291731</td>\n",
       "      <td>-1.860484</td>\n",
       "    </tr>\n",
       "    <tr>\n",
       "      <th>25%</th>\n",
       "      <td>-0.555112</td>\n",
       "      <td>-0.455410</td>\n",
       "    </tr>\n",
       "    <tr>\n",
       "      <th>50%</th>\n",
       "      <td>0.004322</td>\n",
       "      <td>0.040499</td>\n",
       "    </tr>\n",
       "    <tr>\n",
       "      <th>75%</th>\n",
       "      <td>0.610729</td>\n",
       "      <td>0.453756</td>\n",
       "    </tr>\n",
       "    <tr>\n",
       "      <th>max</th>\n",
       "      <td>2.701801</td>\n",
       "      <td>2.272089</td>\n",
       "    </tr>\n",
       "  </tbody>\n",
       "</table style=\"display:inline\"></td></th>"
      ]
     },
     "metadata": {},
     "output_type": "display_data"
    },
    {
     "data": {
      "text/html": [
       "<h3>Variável intake fixada em top 25%<h3>"
      ],
      "text/plain": [
       "<IPython.core.display.HTML object>"
      ]
     },
     "metadata": {},
     "output_type": "display_data"
    },
    {
     "name": "stdout",
     "output_type": "stream",
     "text": [
      "Quantidades de registros para vr = bottom 25% :278\n",
      "Quantidades de registros para vr = mid 50% :278\n",
      "Quantidades de registros para vr = top 25% :79\n"
     ]
    },
    {
     "data": {
      "text/html": [
       "<th style=\"text-align:center\"><td style=\"vertical-align:top\"><h2>vr = bottom 25%</h2><table style=\"display:inline\" border=\"1\" class=\"dataframe\">\n",
       "  <thead>\n",
       "    <tr style=\"text-align: right;\">\n",
       "      <th></th>\n",
       "      <th>normexam</th>\n",
       "      <th>standLRT</th>\n",
       "    </tr>\n",
       "  </thead>\n",
       "  <tbody>\n",
       "    <tr>\n",
       "      <th>count</th>\n",
       "      <td>149.000000</td>\n",
       "      <td>151.000000</td>\n",
       "    </tr>\n",
       "    <tr>\n",
       "      <th>mean</th>\n",
       "      <td>-1.050563</td>\n",
       "      <td>-1.552320</td>\n",
       "    </tr>\n",
       "    <tr>\n",
       "      <th>std</th>\n",
       "      <td>0.813234</td>\n",
       "      <td>0.750017</td>\n",
       "    </tr>\n",
       "    <tr>\n",
       "      <th>min</th>\n",
       "      <td>-3.059543</td>\n",
       "      <td>-2.934953</td>\n",
       "    </tr>\n",
       "    <tr>\n",
       "      <th>25%</th>\n",
       "      <td>-1.526653</td>\n",
       "      <td>-2.108439</td>\n",
       "    </tr>\n",
       "    <tr>\n",
       "      <th>50%</th>\n",
       "      <td>-1.029067</td>\n",
       "      <td>-1.612530</td>\n",
       "    </tr>\n",
       "    <tr>\n",
       "      <th>75%</th>\n",
       "      <td>-0.492781</td>\n",
       "      <td>-1.075296</td>\n",
       "    </tr>\n",
       "    <tr>\n",
       "      <th>max</th>\n",
       "      <td>1.506185</td>\n",
       "      <td>0.288453</td>\n",
       "    </tr>\n",
       "  </tbody>\n",
       "</table style=\"display:inline\"></td></th><th style=\"text-align:center\"><td style=\"vertical-align:top\"><h2>vr = mid 50%</h2><table style=\"display:inline\" border=\"1\" class=\"dataframe\">\n",
       "  <thead>\n",
       "    <tr style=\"text-align: right;\">\n",
       "      <th></th>\n",
       "      <th>normexam</th>\n",
       "      <th>standLRT</th>\n",
       "    </tr>\n",
       "  </thead>\n",
       "  <tbody>\n",
       "    <tr>\n",
       "      <th>count</th>\n",
       "      <td>273.000000</td>\n",
       "      <td>275.000000</td>\n",
       "    </tr>\n",
       "    <tr>\n",
       "      <th>mean</th>\n",
       "      <td>-1.008088</td>\n",
       "      <td>-1.318892</td>\n",
       "    </tr>\n",
       "    <tr>\n",
       "      <th>std</th>\n",
       "      <td>0.849863</td>\n",
       "      <td>0.667628</td>\n",
       "    </tr>\n",
       "    <tr>\n",
       "      <th>min</th>\n",
       "      <td>-3.666072</td>\n",
       "      <td>-2.934953</td>\n",
       "    </tr>\n",
       "    <tr>\n",
       "      <th>25%</th>\n",
       "      <td>-1.623730</td>\n",
       "      <td>-1.860484</td>\n",
       "    </tr>\n",
       "    <tr>\n",
       "      <th>50%</th>\n",
       "      <td>-1.029067</td>\n",
       "      <td>-1.281924</td>\n",
       "    </tr>\n",
       "    <tr>\n",
       "      <th>75%</th>\n",
       "      <td>-0.419801</td>\n",
       "      <td>-0.868667</td>\n",
       "    </tr>\n",
       "    <tr>\n",
       "      <th>max</th>\n",
       "      <td>1.661806</td>\n",
       "      <td>0.288453</td>\n",
       "    </tr>\n",
       "  </tbody>\n",
       "</table style=\"display:inline\"></td></th><th style=\"text-align:center\"><td style=\"vertical-align:top\"><h2>vr = top 25%</h2><table style=\"display:inline\" border=\"1\" class=\"dataframe\">\n",
       "  <thead>\n",
       "    <tr style=\"text-align: right;\">\n",
       "      <th></th>\n",
       "      <th>normexam</th>\n",
       "      <th>standLRT</th>\n",
       "    </tr>\n",
       "  </thead>\n",
       "  <tbody>\n",
       "    <tr>\n",
       "      <th>count</th>\n",
       "      <td>77.000000</td>\n",
       "      <td>78.000000</td>\n",
       "    </tr>\n",
       "    <tr>\n",
       "      <th>mean</th>\n",
       "      <td>-0.757865</td>\n",
       "      <td>-0.872905</td>\n",
       "    </tr>\n",
       "    <tr>\n",
       "      <th>std</th>\n",
       "      <td>0.766242</td>\n",
       "      <td>0.864796</td>\n",
       "    </tr>\n",
       "    <tr>\n",
       "      <th>min</th>\n",
       "      <td>-2.510121</td>\n",
       "      <td>-2.521696</td>\n",
       "    </tr>\n",
       "    <tr>\n",
       "      <th>25%</th>\n",
       "      <td>-1.335315</td>\n",
       "      <td>-1.364576</td>\n",
       "    </tr>\n",
       "    <tr>\n",
       "      <th>50%</th>\n",
       "      <td>-0.776109</td>\n",
       "      <td>-0.992644</td>\n",
       "    </tr>\n",
       "    <tr>\n",
       "      <th>75%</th>\n",
       "      <td>-0.197611</td>\n",
       "      <td>-0.372758</td>\n",
       "    </tr>\n",
       "    <tr>\n",
       "      <th>max</th>\n",
       "      <td>1.039608</td>\n",
       "      <td>2.106786</td>\n",
       "    </tr>\n",
       "  </tbody>\n",
       "</table style=\"display:inline\"></td></th>"
      ]
     },
     "metadata": {},
     "output_type": "display_data"
    }
   ],
   "source": [
    "display(HTML('<h2>Tabelas mostrando a quantidade de registros para cada combinação e as estatísticas descritivas \\\n",
    "                  para as variáveis normexam e standLRT:</h2>'))\n",
    "\n",
    "display(HTML('<h3>Variável intake fixada em bottom 25%<h3>'))\n",
    "print(f'Quantidades de registros para vr = bottom 25% :{shape_comb1}')\n",
    "print(f'Quantidades de registros para vr = mid 50% :{shape_comb2}')\n",
    "print(f'Quantidades de registros para vr = top 25% :{shape_comb3}')\n",
    "personalized_functions.display_side_by_side(comb1,comb2,comb3, titles=['vr = bottom 25%','vr = mid 50%', 'vr = top 25%'])\n",
    "\n",
    "\n",
    "display(HTML('<h3>Variável intake fixada em mid 50%<h3>'))\n",
    "print(f'Quantidades de registros para vr = bottom 25% :{shape_comb4}')\n",
    "print(f'Quantidades de registros para vr = mid 50% :{shape_comb5}')\n",
    "print(f'Quantidades de registros para vr = top 25% :{shape_comb6}')\n",
    "personalized_functions.display_side_by_side(comb4,comb5,comb6, titles=['vr = bottom 25%','vr = mid 50%', 'vr = top 25%'])\n",
    "\n",
    "\n",
    "display(HTML('<h3>Variável intake fixada em top 25%<h3>'))\n",
    "print(f'Quantidades de registros para vr = bottom 25% :{shape_comb7}')\n",
    "print(f'Quantidades de registros para vr = mid 50% :{shape_comb8}')\n",
    "print(f'Quantidades de registros para vr = top 25% :{shape_comb9}')\n",
    "personalized_functions.display_side_by_side(comb7,comb8,comb9, titles=['vr = bottom 25%','vr = mid 50%', 'vr = top 25%'])\n",
    "\n",
    "\n",
    "del (shape_comb1,shape_comb2,shape_comb3,shape_comb4,shape_comb5,shape_comb6,shape_comb7,shape_comb8,shape_comb9,\n",
    "     comb1,comb2,comb3,comb4,comb5,comb6,comb7,comb8,comb9\n",
    "    )"
   ]
  },
  {
   "cell_type": "markdown",
   "metadata": {},
   "source": [
    "Analisando as estatísticas descritivas das variáveis númericas *normexam* e *standLRT* para todas as combinações, observamos que todas apresentam um desvio padrão alto. Dessa forma, talvez não seja possível inferir uma faixa de valor das variáveis *intake* e *vr* com a mesma confiança que foi feito para a variável *sex*."
   ]
  },
  {
   "cell_type": "markdown",
   "metadata": {},
   "source": [
    "Quanto as outras variáveis faltantes, poderíamos tentar inferí-las também. Um ponto de atenção aqui, é que ao inferir uma varíavel numérica, poderíamos estar enviesando a variação dos dados. \n",
    "\n",
    "Como os dados faltantes representam uma parcela pequena em relação ao total de dados, e foi observado na análise acima que as combinações são bem balanceadas, os dados faltantes serão excluídos do conjunto de dados."
   ]
  },
  {
   "cell_type": "code",
   "execution_count": 36,
   "metadata": {},
   "outputs": [],
   "source": [
    "school_student_df.dropna(axis=0, inplace=True)"
   ]
  },
  {
   "cell_type": "code",
   "execution_count": 37,
   "metadata": {
    "scrolled": true
   },
   "outputs": [
    {
     "data": {
      "text/plain": [
       "school      0\n",
       "schgend     0\n",
       "type        0\n",
       "schavg      0\n",
       "student     0\n",
       "intake      0\n",
       "sex         0\n",
       "vr          0\n",
       "normexam    0\n",
       "standLRT    0\n",
       "dtype: int64"
      ]
     },
     "execution_count": 37,
     "metadata": {},
     "output_type": "execute_result"
    }
   ],
   "source": [
    "school_student_df.isnull().sum()"
   ]
  },
  {
   "cell_type": "markdown",
   "metadata": {},
   "source": [
    "# Salvando os dados tratados"
   ]
  },
  {
   "cell_type": "code",
   "execution_count": 38,
   "metadata": {},
   "outputs": [],
   "source": [
    "school_student_df.to_csv(f'{PATH}/clean_data.csv', index = False)"
   ]
  }
 ],
 "metadata": {
  "kernelspec": {
   "display_name": "Python 3",
   "language": "python",
   "name": "python3"
  },
  "language_info": {
   "codemirror_mode": {
    "name": "ipython",
    "version": 3
   },
   "file_extension": ".py",
   "mimetype": "text/x-python",
   "name": "python",
   "nbconvert_exporter": "python",
   "pygments_lexer": "ipython3",
   "version": "3.7.0"
  }
 },
 "nbformat": 4,
 "nbformat_minor": 2
}
